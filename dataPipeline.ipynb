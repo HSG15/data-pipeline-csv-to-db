{
 "cells": [
  {
   "cell_type": "code",
   "execution_count": 3,
   "id": "fe213520-4382-48bb-b8e3-59b98b762d6b",
   "metadata": {},
   "outputs": [],
   "source": [
    "import psycopg2 as pg2\n",
    "import pandas as pd"
   ]
  },
  {
   "cell_type": "code",
   "execution_count": 52,
   "id": "6cc591d9-51b9-4abf-8812-507b44aa051b",
   "metadata": {},
   "outputs": [],
   "source": [
    "def createDB():\n",
    "    conn = pg2.connect(\n",
    "        host = 'localhost',\n",
    "        dbname = 'mydb',\n",
    "        user = 'postgres',\n",
    "        password = 'hsgiri'\n",
    "    )\n",
    "    conn.autocommit = True\n",
    "    cur = conn.cursor()\n",
    "    return cur, conn"
   ]
  },
  {
   "cell_type": "code",
   "execution_count": 54,
   "id": "af8f0430-bafe-4ec4-a761-15cef80ca34a",
   "metadata": {
    "panel-layout": {
     "height": 167,
     "visible": true,
     "width": 100
    }
   },
   "outputs": [
    {
     "data": {
      "text/html": [
       "<div>\n",
       "<style scoped>\n",
       "    .dataframe tbody tr th:only-of-type {\n",
       "        vertical-align: middle;\n",
       "    }\n",
       "\n",
       "    .dataframe tbody tr th {\n",
       "        vertical-align: top;\n",
       "    }\n",
       "\n",
       "    .dataframe thead th {\n",
       "        text-align: right;\n",
       "    }\n",
       "</style>\n",
       "<table border=\"1\" class=\"dataframe\">\n",
       "  <thead>\n",
       "    <tr style=\"text-align: right;\">\n",
       "      <th></th>\n",
       "      <th>Sales Person</th>\n",
       "      <th>Country</th>\n",
       "      <th>Product</th>\n",
       "      <th>Date</th>\n",
       "      <th>Amount</th>\n",
       "      <th>Boxes Shipped</th>\n",
       "    </tr>\n",
       "  </thead>\n",
       "  <tbody>\n",
       "    <tr>\n",
       "      <th>0</th>\n",
       "      <td>Jehu Rudeforth</td>\n",
       "      <td>UK</td>\n",
       "      <td>Mint Chip Choco</td>\n",
       "      <td>05-Jan-22</td>\n",
       "      <td>$6,596</td>\n",
       "      <td>104</td>\n",
       "    </tr>\n",
       "    <tr>\n",
       "      <th>1</th>\n",
       "      <td>Emma Clarkson</td>\n",
       "      <td>USA</td>\n",
       "      <td>Dark Choco</td>\n",
       "      <td>04-Dec-23</td>\n",
       "      <td>$8,610</td>\n",
       "      <td>97</td>\n",
       "    </tr>\n",
       "    <tr>\n",
       "      <th>2</th>\n",
       "      <td>Liam Peterson</td>\n",
       "      <td>Canada</td>\n",
       "      <td>Milk Choco</td>\n",
       "      <td>05-Dec-22</td>\n",
       "      <td>$9,850</td>\n",
       "      <td>194</td>\n",
       "    </tr>\n",
       "    <tr>\n",
       "      <th>3</th>\n",
       "      <td>Olivia Barnes</td>\n",
       "      <td>Germany</td>\n",
       "      <td>White Choco</td>\n",
       "      <td>21-May-22</td>\n",
       "      <td>$7,772</td>\n",
       "      <td>256</td>\n",
       "    </tr>\n",
       "    <tr>\n",
       "      <th>4</th>\n",
       "      <td>Ethan Wright</td>\n",
       "      <td>France</td>\n",
       "      <td>Caramel Choco</td>\n",
       "      <td>07-Feb-22</td>\n",
       "      <td>$4,852</td>\n",
       "      <td>205</td>\n",
       "    </tr>\n",
       "  </tbody>\n",
       "</table>\n",
       "</div>"
      ],
      "text/plain": [
       "     Sales Person  Country          Product       Date  Amount  Boxes Shipped\n",
       "0  Jehu Rudeforth       UK  Mint Chip Choco  05-Jan-22  $6,596            104\n",
       "1   Emma Clarkson      USA       Dark Choco  04-Dec-23  $8,610             97\n",
       "2   Liam Peterson   Canada       Milk Choco  05-Dec-22  $9,850            194\n",
       "3   Olivia Barnes  Germany      White Choco  21-May-22  $7,772            256\n",
       "4    Ethan Wright   France    Caramel Choco  07-Feb-22  $4,852            205"
      ]
     },
     "execution_count": 54,
     "metadata": {},
     "output_type": "execute_result"
    }
   ],
   "source": [
    "choco_sales_csv = pd.read_csv('/Users/harishankargiri/Downloads/chocolate_sales.csv')\n",
    "choco_sales_csv.head() # to print the first five rows of a dataset"
   ]
  },
  {
   "cell_type": "code",
   "execution_count": 56,
   "id": "00f3b5eb-3a70-48f3-bfcb-faf3d3f0754f",
   "metadata": {},
   "outputs": [],
   "source": [
    "choco_supl_csv = pd.read_csv('/Users/harishankargiri/Downloads/chocolate_suppliers.csv')\n",
    "choco_supl_csv.head()\n",
    "choco_supl_csv = choco_supl_csv.drop('Last Shipment Date', axis = 1) # Remove a col from dataframe by name, 1:col, 0:row"
   ]
  },
  {
   "cell_type": "code",
   "execution_count": 58,
   "id": "137d82df-1c38-4a86-8275-b8cb7a722164",
   "metadata": {
    "panel-layout": {
     "height": 167,
     "visible": true,
     "width": 100
    }
   },
   "outputs": [
    {
     "data": {
      "text/html": [
       "<div>\n",
       "<style scoped>\n",
       "    .dataframe tbody tr th:only-of-type {\n",
       "        vertical-align: middle;\n",
       "    }\n",
       "\n",
       "    .dataframe tbody tr th {\n",
       "        vertical-align: top;\n",
       "    }\n",
       "\n",
       "    .dataframe thead th {\n",
       "        text-align: right;\n",
       "    }\n",
       "</style>\n",
       "<table border=\"1\" class=\"dataframe\">\n",
       "  <thead>\n",
       "    <tr style=\"text-align: right;\">\n",
       "      <th></th>\n",
       "      <th>Supplier Name</th>\n",
       "      <th>Country</th>\n",
       "      <th>Product Supplied</th>\n",
       "      <th>Supply Quantity (kg)</th>\n",
       "    </tr>\n",
       "  </thead>\n",
       "  <tbody>\n",
       "    <tr>\n",
       "      <th>0</th>\n",
       "      <td>Cocoa Delights</td>\n",
       "      <td>Ghana</td>\n",
       "      <td>Cocoa Beans</td>\n",
       "      <td>807</td>\n",
       "    </tr>\n",
       "    <tr>\n",
       "      <th>1</th>\n",
       "      <td>Sweet Beans Ltd.</td>\n",
       "      <td>Brazil</td>\n",
       "      <td>Sugar</td>\n",
       "      <td>1295</td>\n",
       "    </tr>\n",
       "    <tr>\n",
       "      <th>2</th>\n",
       "      <td>Choco Source</td>\n",
       "      <td>Ivory Coast</td>\n",
       "      <td>Milk Powder</td>\n",
       "      <td>1932</td>\n",
       "    </tr>\n",
       "    <tr>\n",
       "      <th>3</th>\n",
       "      <td>Premium Cocoa</td>\n",
       "      <td>Ecuador</td>\n",
       "      <td>Vanilla Extract</td>\n",
       "      <td>2905</td>\n",
       "    </tr>\n",
       "    <tr>\n",
       "      <th>4</th>\n",
       "      <td>Gourmet Ingredients</td>\n",
       "      <td>Indonesia</td>\n",
       "      <td>Cocoa Butter</td>\n",
       "      <td>4185</td>\n",
       "    </tr>\n",
       "  </tbody>\n",
       "</table>\n",
       "</div>"
      ],
      "text/plain": [
       "         Supplier Name      Country Product Supplied  Supply Quantity (kg)\n",
       "0       Cocoa Delights        Ghana      Cocoa Beans                   807\n",
       "1     Sweet Beans Ltd.       Brazil            Sugar                  1295\n",
       "2         Choco Source  Ivory Coast      Milk Powder                  1932\n",
       "3        Premium Cocoa      Ecuador  Vanilla Extract                  2905\n",
       "4  Gourmet Ingredients    Indonesia     Cocoa Butter                  4185"
      ]
     },
     "execution_count": 58,
     "metadata": {},
     "output_type": "execute_result"
    }
   ],
   "source": [
    "choco_supl_csv.head()"
   ]
  },
  {
   "cell_type": "code",
   "execution_count": 60,
   "id": "17bc83e8-9a3a-487e-9ffc-096073758283",
   "metadata": {
    "panel-layout": {
     "height": 167,
     "visible": true,
     "width": 100
    }
   },
   "outputs": [
    {
     "data": {
      "text/html": [
       "<div>\n",
       "<style scoped>\n",
       "    .dataframe tbody tr th:only-of-type {\n",
       "        vertical-align: middle;\n",
       "    }\n",
       "\n",
       "    .dataframe tbody tr th {\n",
       "        vertical-align: top;\n",
       "    }\n",
       "\n",
       "    .dataframe thead th {\n",
       "        text-align: right;\n",
       "    }\n",
       "</style>\n",
       "<table border=\"1\" class=\"dataframe\">\n",
       "  <thead>\n",
       "    <tr style=\"text-align: right;\">\n",
       "      <th></th>\n",
       "      <th>Warehouse</th>\n",
       "      <th>Product</th>\n",
       "      <th>Stock Level</th>\n",
       "      <th>Reorder Level</th>\n",
       "      <th>Last Restocked</th>\n",
       "    </tr>\n",
       "  </thead>\n",
       "  <tbody>\n",
       "    <tr>\n",
       "      <th>0</th>\n",
       "      <td>London</td>\n",
       "      <td>Mint Chip Choco</td>\n",
       "      <td>376</td>\n",
       "      <td>116</td>\n",
       "      <td>01-Nov-23</td>\n",
       "    </tr>\n",
       "    <tr>\n",
       "      <th>1</th>\n",
       "      <td>New York</td>\n",
       "      <td>Dark Choco</td>\n",
       "      <td>901</td>\n",
       "      <td>176</td>\n",
       "      <td>27-Oct-22</td>\n",
       "    </tr>\n",
       "    <tr>\n",
       "      <th>2</th>\n",
       "      <td>Toronto</td>\n",
       "      <td>Milk Choco</td>\n",
       "      <td>121</td>\n",
       "      <td>172</td>\n",
       "      <td>01-Apr-22</td>\n",
       "    </tr>\n",
       "    <tr>\n",
       "      <th>3</th>\n",
       "      <td>Berlin</td>\n",
       "      <td>White Choco</td>\n",
       "      <td>246</td>\n",
       "      <td>95</td>\n",
       "      <td>16-Dec-23</td>\n",
       "    </tr>\n",
       "    <tr>\n",
       "      <th>4</th>\n",
       "      <td>Paris</td>\n",
       "      <td>Caramel Choco</td>\n",
       "      <td>349</td>\n",
       "      <td>146</td>\n",
       "      <td>31-Jan-23</td>\n",
       "    </tr>\n",
       "  </tbody>\n",
       "</table>\n",
       "</div>"
      ],
      "text/plain": [
       "  Warehouse          Product  Stock Level  Reorder Level Last Restocked\n",
       "0    London  Mint Chip Choco          376            116      01-Nov-23\n",
       "1  New York       Dark Choco          901            176      27-Oct-22\n",
       "2   Toronto       Milk Choco          121            172      01-Apr-22\n",
       "3    Berlin      White Choco          246             95      16-Dec-23\n",
       "4     Paris    Caramel Choco          349            146      31-Jan-23"
      ]
     },
     "execution_count": 60,
     "metadata": {},
     "output_type": "execute_result"
    }
   ],
   "source": [
    "choco_inve_csv = pd.read_csv('/Users/harishankargiri/Downloads/chocolate_inventory.csv')\n",
    "choco_inve_csv.head()"
   ]
  },
  {
   "cell_type": "code",
   "execution_count": 62,
   "id": "a0eccd1c-3ea1-4c06-b9f8-07a183ba4aa0",
   "metadata": {},
   "outputs": [],
   "source": [
    "cur, conn = createDB()"
   ]
  },
  {
   "cell_type": "code",
   "execution_count": 64,
   "id": "8e962a22-87c9-465d-8f32-b6dd7ccbf6a2",
   "metadata": {},
   "outputs": [],
   "source": [
    "create_choco_sales = cur.execute(\"\"\"\n",
    "    CREATE TABLE IF NOT EXISTS choco_sales (\n",
    "        id SERIAL PRIMARY KEY,\n",
    "        sales_person VARCHAR(100),\n",
    "        country VARCHAR(50),\n",
    "        product VARCHAR(100),\n",
    "        sale_date DATE,\n",
    "        amount NUMERIC(10,2),\n",
    "        boxes_shipped INT\n",
    "    )\n",
    "\"\"\")\n",
    "\n",
    "create_choco_supl = cur.execute(\"\"\"\n",
    "    CREATE TABLE IF NOT EXISTS choco_supl (\n",
    "        id SERIAL PRIMARY KEY,\n",
    "        supplier_name VARCHAR(100),\n",
    "        country VARCHAR(50),\n",
    "        product_supplied VARCHAR(100),\n",
    "        supply_quantity INT\n",
    "    )\n",
    "\"\"\")\n",
    "\n",
    "create_choco_inve = cur.execute(\"\"\"\n",
    "    CREATE TABLE if not exists choco_inve (\n",
    "        id SERIAL PRIMARY KEY,\n",
    "        warehouse VARCHAR(100),\n",
    "        product VARCHAR(100),\n",
    "        stock_level INT,\n",
    "        reorder_level INT,\n",
    "        last_restocked DATE\n",
    "    )\n",
    "\"\"\")\n"
   ]
  },
  {
   "cell_type": "code",
   "execution_count": 110,
   "id": "d3c71262-b1c3-4331-bbc5-c2e8da276be1",
   "metadata": {},
   "outputs": [],
   "source": [
    "insert_choco_sales = (\"\"\"\n",
    "    INSERT INTO choco_sales (\n",
    "        sales_person, country, product, sale_date, amount, boxes_shipped\n",
    "    ) \n",
    "    VALUES (%s, %s, %s, %s, %s, %s)\n",
    "\"\"\")\n",
    "\n",
    "insert_choco_supl = (\"\"\"\n",
    "    INSERT INTO choco_supl (\n",
    "        supplier_name, country, product_supplied, supply_quantity\n",
    "    ) \n",
    "    VALUES (%s, %s, %s, %s)\n",
    "\"\"\")\n",
    "\n",
    "insert_choco_inve = (\"\"\"\n",
    "    insert into choco_inve (\n",
    "        warehouse, product, stock_level, reorder_level, last_restocked\n",
    "    )\n",
    "    values (%s, %s, %s, %s, %s)\n",
    "\"\"\")"
   ]
  },
  {
   "cell_type": "code",
   "execution_count": 112,
   "id": "710bf514-0d22-4b5e-9f56-d65681456eff",
   "metadata": {},
   "outputs": [],
   "source": [
    "for i, row in choco_sales_csv.iterrows():\n",
    "    row_list = list(row)\n",
    "    row_list[4] = float(row_list[4].replace(\"$\", \"\").replace(\",\", \"\"))\n",
    "    #print(i, list(row))\n",
    "    cur.execute(insert_choco_sales, row_list)"
   ]
  },
  {
   "cell_type": "code",
   "execution_count": 114,
   "id": "364281e8-844f-4998-a100-d6316ac882c9",
   "metadata": {},
   "outputs": [],
   "source": [
    "for i, row in choco_supl_csv.iterrows():\n",
    "    cur.execute(insert_choco_supl, list(row))"
   ]
  },
  {
   "cell_type": "code",
   "execution_count": 118,
   "id": "5b32d2ab-56a9-44fa-9737-1d5380f56ab1",
   "metadata": {},
   "outputs": [],
   "source": [
    "for i, row in choco_inve_csv.iterrows():\n",
    "    cur.execute(insert_choco_inve, list(row))"
   ]
  },
  {
   "cell_type": "raw",
   "id": "95cf222c-5cca-481f-8b70-8d5fc49ab26e",
   "metadata": {},
   "source": [
    "Establish Connection With Database\n",
    "Read all the CSV file from your local storage by Pandas\n",
    "Create Data Model in draw.io\n",
    "Create SQL tables\n",
    "Clean the CSV data if required\n",
    "Insert Data into those tables"
   ]
  }
 ],
 "metadata": {
  "kernelspec": {
   "display_name": "Python [conda env:anaconda3]",
   "language": "python",
   "name": "conda-env-anaconda3-py"
  },
  "language_info": {
   "codemirror_mode": {
    "name": "ipython",
    "version": 3
   },
   "file_extension": ".py",
   "mimetype": "text/x-python",
   "name": "python",
   "nbconvert_exporter": "python",
   "pygments_lexer": "ipython3",
   "version": "3.12.7"
  },
  "panel-cell-order": [
   "af8f0430-bafe-4ec4-a761-15cef80ca34a",
   "137d82df-1c38-4a86-8275-b8cb7a722164",
   "17bc83e8-9a3a-487e-9ffc-096073758283"
  ]
 },
 "nbformat": 4,
 "nbformat_minor": 5
}
